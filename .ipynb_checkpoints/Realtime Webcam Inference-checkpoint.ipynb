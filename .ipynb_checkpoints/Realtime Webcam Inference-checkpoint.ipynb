{
 "cells": [
  {
   "cell_type": "markdown",
   "metadata": {},
   "source": [
    "# REAL TIME USB WEBCAM OUTPUT"
   ]
  },
  {
   "cell_type": "code",
   "execution_count": 1,
   "metadata": {},
   "outputs": [],
   "source": [
    "# Import the required modules for real-time camera output\n",
    "import cv2\n",
    "import time\n",
    "import numpy as np\n",
    "import PIL.Image\n",
    "from io import BytesIO\n",
    "import IPython.display\n",
    "import ipywidgets as widgets\n",
    "import threading"
   ]
  },
  {
   "cell_type": "code",
   "execution_count": 2,
   "metadata": {},
   "outputs": [],
   "source": [
    "#Use 'jpeg' instead of 'png' (~5 times faster)\n",
    "def showarray(a, prev_display_id=None, fmt='jpeg'):\n",
    "    f = BytesIO()\n",
    "    PIL.Image.fromarray(a).save(f, fmt)\n",
    "    obj = IPython.display.Image(data=f.getvalue())\n",
    "    if prev_display_id is not None:\n",
    "        IPython.display.update_display(obj, display_id=prev_display_id)\n",
    "        return prev_display_id\n",
    "    else:\n",
    "        return IPython.display.display(obj, display_id=True)"
   ]
  },
  {
   "cell_type": "code",
   "execution_count": 3,
   "metadata": {},
   "outputs": [],
   "source": [
    "def get_frame(cam):\n",
    "    # Capture frame-by-frame\n",
    "    ret, frame = cam.read()\n",
    "    \n",
    "    return frame"
   ]
  },
  {
   "cell_type": "code",
   "execution_count": 4,
   "metadata": {},
   "outputs": [
    {
     "name": "stdout",
     "output_type": "stream",
     "text": [
      "Camera Indices: [0]\n"
     ]
    }
   ],
   "source": [
    "def get_camera_indexes(max=5):\n",
    "    # ref: https://stackoverflow.com/a/53310665/3553367\n",
    "    arr = []\n",
    "    for index in range(0, max):\n",
    "#         print(index)\n",
    "        cap = cv2.VideoCapture()\n",
    "        cap.open(index)\n",
    "        if cap.isOpened():\n",
    "            arr.append(index)\n",
    "        cap.release()\n",
    "    return arr\n",
    "# Get Available Cameras.\n",
    "camera_indexes = get_camera_indexes()\n",
    "print(\"Camera Indices:\", camera_indexes)"
   ]
  },
  {
   "cell_type": "code",
   "execution_count": 5,
   "metadata": {},
   "outputs": [
    {
     "name": "stdout",
     "output_type": "stream",
     "text": [
      "Camera Initiated:  864.0 480.0\n"
     ]
    }
   ],
   "source": [
    "def init_cam():\n",
    "    cam = cv2.VideoCapture(0)\n",
    "    cam.set(cv2.CAP_PROP_FRAME_WIDTH, 852)\n",
    "    cam.set(cv2.CAP_PROP_FRAME_HEIGHT, 480)\n",
    "    print(\"Camera Initiated: \", cam.get(3), cam.get(4))\n",
    "    return {'cam': cam, 'displayid': None}\n",
    "    \n",
    "webcam = init_cam()"
   ]
  },
  {
   "cell_type": "code",
   "execution_count": null,
   "metadata": {},
   "outputs": [],
   "source": [
    "totalFrames = 100\n",
    "captureImg = False\n",
    "\n",
    "fps_output = widgets.Output()\n",
    "display(fps_output)\n",
    "\n",
    "progress = widgets.FloatProgress(value=0.0, min=0.0, max=1.0)\n",
    "\n",
    "curFrameNum = 0\n",
    "\n",
    "def work(progress):\n",
    "    while curFrameNum <= totalFrames:\n",
    "        time.sleep(1)\n",
    "        progress.value = curFrameNum / totalFrames\n",
    "        \n",
    "progressThread = threading.Thread(target=work, args=(progress,))\n",
    "display(progress)\n",
    "progressThread.start()\n",
    "\n",
    "for curFrame in range(1, totalFrames+1):\n",
    "    curFrameNum = curFrame\n",
    "    t1 = time.time()\n",
    "    \n",
    "    # Captuer Frame\n",
    "    frame = get_frame(webcam.get(\"cam\"))\n",
    "    \n",
    "    # Convert the image from OpenCV BGR format to matplotlib RGB format\n",
    "    # to display the image\n",
    "    frame = cv2.cvtColor(frame, cv2.COLOR_BGR2RGB)\n",
    "    displayid = webcam.get('displayid')\n",
    "    if displayid is not None:\n",
    "        showarray(frame, display_id)\n",
    "    else:\n",
    "        display_handle = showarray(frame)\n",
    "        webcam['displayid'] = display_handle.display_id\n",
    "            \n",
    "    with fps_output:\n",
    "        print(\"Frame: %d of %d\" % (curFrame, totalFrames))\n",
    "        print(\"%f FPS\" % (1/(t2-t1)))\n",
    "        # Display the frame info until new frame is available\n",
    "        IPython.display.clear_output(wait=True)\n",
    "        \n",
    "\n",
    "webcam.get(\"cam\").release()"
   ]
  },
  {
   "cell_type": "code",
   "execution_count": null,
   "metadata": {},
   "outputs": [],
   "source": []
  }
 ],
 "metadata": {
  "kernelspec": {
   "display_name": "Python 3",
   "language": "python",
   "name": "python3"
  },
  "language_info": {
   "codemirror_mode": {
    "name": "ipython",
    "version": 3
   },
   "file_extension": ".py",
   "mimetype": "text/x-python",
   "name": "python",
   "nbconvert_exporter": "python",
   "pygments_lexer": "ipython3",
   "version": "3.6.5"
  }
 },
 "nbformat": 4,
 "nbformat_minor": 2
}
